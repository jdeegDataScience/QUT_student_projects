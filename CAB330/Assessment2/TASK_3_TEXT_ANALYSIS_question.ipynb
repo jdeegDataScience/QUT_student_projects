{
 "cells": [
  {
   "cell_type": "code",
   "execution_count": 1,
   "id": "8d66a254",
   "metadata": {},
   "outputs": [],
   "source": [
    "# import packages\n",
    "import string\n",
    "import pandas as pd\n",
    "\n",
    "# natural language toolkit\n",
    "from nltk.corpus import stopwords as sw\n",
    "from nltk.corpus import wordnet as wn\n",
    "from nltk import wordpunct_tokenize\n",
    "from nltk import WordNetLemmatizer\n",
    "from nltk import sent_tokenize\n",
    "from nltk import pos_tag\n",
    "\n",
    "# scikit-learn\n",
    "from sklearn.feature_extraction.text import TfidfVectorizer\n",
    "from sklearn.cluster import KMeans\n",
    "from sklearn.feature_extraction.text import CountVectorizer\n",
    "from sklearn.decomposition import TruncatedSVD\n",
    "\n",
    "# maths\n",
    "from scipy.spatial.distance import euclidean\n",
    "from math import sqrt\n",
    "\n",
    "# load dataset\n",
    "# M_metadata_v1.csv\n",
    "movie_data = pd.read_csv('M_metadata_v1.csv', na_filter=False)"
   ]
  },
  {
   "cell_type": "code",
   "execution_count": 3,
   "id": "47715fca",
   "metadata": {},
   "outputs": [
    {
     "name": "stdout",
     "output_type": "stream",
     "text": [
      "<class 'pandas.core.frame.DataFrame'>\n",
      "RangeIndex: 799 entries, 0 to 798\n",
      "Data columns (total 21 columns):\n",
      " #   Column        Non-Null Count  Dtype \n",
      "---  ------        --------------  ----- \n",
      " 0   Cast 1        799 non-null    object\n",
      " 1   Cast 2        799 non-null    object\n",
      " 2   Cast 3        799 non-null    object\n",
      " 3   Cast 4        799 non-null    object\n",
      " 4   Cast 5        799 non-null    object\n",
      " 5   Cast 6        799 non-null    object\n",
      " 6   Description   799 non-null    object\n",
      " 7   Director 1    799 non-null    object\n",
      " 8   Director 2    799 non-null    object\n",
      " 9   Director 3    799 non-null    object\n",
      " 10  Genre         799 non-null    object\n",
      " 11  Rating        799 non-null    object\n",
      " 12  Release Date  799 non-null    object\n",
      " 13  Runtime       799 non-null    object\n",
      " 14  Studio        799 non-null    object\n",
      " 15  Title         799 non-null    object\n",
      " 16  Writer 1      799 non-null    object\n",
      " 17  Writer 2      799 non-null    object\n",
      " 18  Writer 3      799 non-null    object\n",
      " 19  Writer 4      799 non-null    object\n",
      " 20  Year          799 non-null    int64 \n",
      "dtypes: int64(1), object(20)\n",
      "memory usage: 131.2+ KB\n"
     ]
    }
   ],
   "source": [
    "movie_data.info()"
   ]
  },
  {
   "cell_type": "code",
   "execution_count": 121,
   "id": "0e664ace",
   "metadata": {},
   "outputs": [],
   "source": [
    "# Initialize stopwords here and more\n",
    "# initialise resources\n",
    "lemmatizer = WordNetLemmatizer()\n",
    "punct = set(string.punctuation)\n",
    "stopwords = set(sw.words('english')).union(set(('c', 'r', 'u', 'film')))\n",
    "stopwords = set(sw.words('english'))\n",
    "rs = 21"
   ]
  },
  {
   "cell_type": "code",
   "execution_count": 126,
   "id": "f961fdbe",
   "metadata": {},
   "outputs": [],
   "source": [
    "def lemmatize(token, tag):\n",
    "    tag = {\n",
    "        'N': wn.NOUN,\n",
    "        'V': wn.VERB,\n",
    "        'R': wn.ADV,\n",
    "        'J': wn.ADJ\n",
    "    }.get(tag[0], wn.NOUN)\n",
    "    return lemmatizer.lemmatize(token, tag)\n",
    "\n",
    "def cab_tokenizer(document):\n",
    "    # initialize token list\n",
    "    tokens = []\n",
    "    \n",
    "    # split the document into sentences\n",
    "    for sent in sent_tokenize(document):\n",
    "        # split the document into tokens and then create part of speech tag for each token\n",
    "        for token, tag in pos_tag(wordpunct_tokenize(sent)):\n",
    "            # preprocess and remove unnecessary characters\n",
    "            token = token.lower()\n",
    "            token = token.strip()\n",
    "            token = token.strip('_')\n",
    "            token = token.strip('*')\n",
    "\n",
    "            # If stopword, ignore token and continue\n",
    "            if token in stopwords:\n",
    "                continue\n",
    "\n",
    "            # If punctuation, ignore token and continue\n",
    "            if all(char in punct for char in token):\n",
    "                continue\n",
    "\n",
    "            # Lemmatize the token and add back to the tokens list\n",
    "            lemma = lemmatize(token, tag)\n",
    "            tokens.append(lemma)\n",
    "    \n",
    "    return tokens\n"
   ]
  },
  {
   "cell_type": "code",
   "execution_count": 123,
   "id": "871c31a4",
   "metadata": {},
   "outputs": [],
   "source": [
    "import seaborn as sns\n",
    "import matplotlib.pyplot as plt\n",
    "\n",
    "# function to visualise text cluster\n",
    "def visualise_text_cluster(n_clusters, cluster_centers, terms, num_word = 5):\n",
    "    # -- Params --\n",
    "    # cluster_centers: cluster centers of fitted/trained KMeans/other centroid-based clustering\n",
    "    # terms: terms used for clustering\n",
    "    # num_word: number of terms to show per cluster. Change as you please.\n",
    "    \n",
    "    # find features/terms closest to centroids\n",
    "    ordered_centroids = cluster_centers.argsort()[:, ::-1]\n",
    "    \n",
    "    for cluster in range(n_clusters):\n",
    "        print(\"Top terms for cluster {}:\".format(cluster), end=\" \")\n",
    "        for term_idx in ordered_centroids[cluster, :5]:\n",
    "            print(terms[term_idx], end=', ')\n",
    "        print()\n",
    "\n",
    "# creates tf-idf terms; a bit slow, run only occasionaly\n",
    "# Param - document_col: collection of raw document text that you want to analyse\n",
    "def calculate_tf_idf_terms(document_col):\n",
    "    # use count vectorizer to find TF and DF of each term\n",
    "    count_vec = CountVectorizer(tokenizer=cab_tokenizer, ngram_range=(1,2))\n",
    "    X_count = count_vec.fit_transform(document_col)\n",
    "    \n",
    "    # create list of terms and their tf and df\n",
    "    terms = [{'term': t, 'idx': count_vec.vocabulary_[t],\n",
    "              'tf': X_count[:, count_vec.vocabulary_[t]].sum(),\n",
    "              'df': X_count[:, count_vec.vocabulary_[t]].count_nonzero()}\n",
    "             for t in count_vec.vocabulary_]\n",
    "    \n",
    "    return terms\n",
    "\n",
    "# visualisation of ZIPF law\n",
    "# --- Param ---\n",
    "    # terms: collection of terms dictionary from calculate_tf_idf_terms function\n",
    "    # itr_step: used to control how many terms that you want to plot.\n",
    "    #           Num of terms to plot = N terms / itr_step\n",
    "def visualise_zipf(terms, itr_step = 50):\n",
    "    # sort terms by its frequency\n",
    "    terms.sort(key=lambda x: (x['tf'], x['df']), reverse=True)\n",
    "    \n",
    "    # select a few of the terms for plotting purpose\n",
    "    sel_terms = [terms[i] for i in range(0, len(terms), itr_step)]\n",
    "    labels = [term['term'] for term in sel_terms]\n",
    "    \n",
    "    # plot term frequency ranking vs its DF\n",
    "    plt.plot(range(len(sel_terms)), [x['df'] for x in sel_terms])\n",
    "    plt.xlabel('Term frequency ranking')\n",
    "    plt.ylabel('Document frequency')\n",
    "    \n",
    "    max_x = len(sel_terms)\n",
    "    max_y = max([x['df'] for x in sel_terms])\n",
    "    \n",
    "    # annotate the points\n",
    "    prev_x, prev_y = 0, 0\n",
    "    for label, x, y in zip(labels,range(len(sel_terms)), [x['df'] for x in sel_terms]):\n",
    "        # calculate the relative distance between labels to increase visibility\n",
    "        x_dist = (abs(x - prev_x) / float(max_x)) ** 2\n",
    "        y_dist = (abs(y - prev_y) / float(max_y)) ** 2\n",
    "        scaled_dist = sqrt(x_dist + y_dist)\n",
    "        \n",
    "        if (scaled_dist > 0.1):\n",
    "            plt.text(x+2, y+2, label, {'ha': 'left', 'va': 'bottom'}, rotation=30)\n",
    "            prev_x, prev_y = x, y\n",
    "    \n",
    "    plt.show()"
   ]
  },
  {
   "cell_type": "code",
   "execution_count": 124,
   "id": "e4b827b2",
   "metadata": {},
   "outputs": [],
   "source": [
    "def preprocess_movie_data(raw_movie_data, optimise=True):\n",
    "    # drop all cols except 'Description'\n",
    "    preprocess_df = raw_movie_data.loc[:, ['Description']]\n",
    "    \n",
    "    # if default analysis\n",
    "    if optimise==True:\n",
    "        stopwords = set(sw.words('english'))\n",
    "        tfidf_vec = TfidfVectorizer(tokenizer=cab_tokenizer, ngram_range=(1,2))\n",
    "    else: # add additional stop words and strip noisy phrases from data\n",
    "        stopwords = set(sw.words('english')).union(set(('c', 'r', 'u', 'film')))\n",
    "        preprocess_df['Description'] = preprocess_df['Description'].str.split('\\. --',expand=True).iloc[:,0]\n",
    "        tfidf_vec = TfidfVectorizer(tokenizer=cab_tokenizer, ngram_range=(1,2), min_df=0.05, max_df=0.7)\n",
    "    \n",
    "    X = tfidf_vec.fit_transform(preprocess_df.Description)\n",
    "    \n",
    "    return tfidf_vec, X"
   ]
  },
  {
   "cell_type": "code",
   "execution_count": 125,
   "id": "a4f05916",
   "metadata": {},
   "outputs": [
    {
     "name": "stderr",
     "output_type": "stream",
     "text": [
      "/Users/miriamsarpong/anaconda3/lib/python3.11/site-packages/sklearn/feature_extraction/text.py:528: UserWarning: The parameter 'token_pattern' will not be used since 'tokenizer' is not None'\n",
      "  warnings.warn(\n"
     ]
    },
    {
     "name": "stdout",
     "output_type": "stream",
     "text": [
      "65478\n"
     ]
    }
   ],
   "source": [
    "# Task 3.4\n",
    "# tf idf vectoriser\n",
    "tfidf_vec = TfidfVectorizer(tokenizer=cab_tokenizer, ngram_range=(1,2))\n",
    "X = tfidf_vec.fit_transform(movie_data.Description)\n",
    "\n",
    "# number of input features\n",
    "print(len(tfidf_vec.get_feature_names_out()))"
   ]
  },
  {
   "cell_type": "code",
   "execution_count": 112,
   "id": "c2a01bec",
   "metadata": {},
   "outputs": [
    {
     "name": "stderr",
     "output_type": "stream",
     "text": [
      "/Users/miriamsarpong/anaconda3/lib/python3.11/site-packages/sklearn/cluster/_kmeans.py:870: FutureWarning: The default value of `n_init` will change from 10 to 'auto' in 1.4. Set the value of `n_init` explicitly to suppress the warning\n",
      "  warnings.warn(\n"
     ]
    },
    {
     "name": "stdout",
     "output_type": "stream",
     "text": [
      "Top terms for cluster 0: peter, bob, fred, set, war, \n",
      "Top terms for cluster 1: world, save, must, destroy, evil, \n",
      "Top terms for cluster 2: film, documentary, song, feature, rock, \n",
      "Top terms for cluster 3: c, official, c official, site, official site, \n",
      "Top terms for cluster 4: life, find, love, one, time, \n",
      "Top terms for cluster 5: alien, colony, ripley, planet, group, \n",
      "Top terms for cluster 6: award, academy award, academy, documentary, film, \n",
      "Top terms for cluster 7: jack, disney, young, find, white, \n",
      "Top terms for cluster 8: prince, king, queen, year, narnia, \n",
      "Top terms for cluster 9: family, new, one, film, kid, \n"
     ]
    }
   ],
   "source": [
    "# Task 3.6 ?\n",
    "# K means clustering using the term vector\n",
    "kmeans = KMeans(n_clusters=10, random_state=rs).fit(X)\n",
    "\n",
    "# call it\n",
    "visualise_text_cluster(kmeans.n_clusters, kmeans.cluster_centers_, tfidf_vec.get_feature_names_out())"
   ]
  },
  {
   "cell_type": "code",
   "execution_count": 113,
   "id": "22633eaf",
   "metadata": {},
   "outputs": [],
   "source": [
    "# Task 3.2\n",
    "terms = calculate_tf_idf_terms(movie_data.Description)"
   ]
  },
  {
   "cell_type": "code",
   "execution_count": 114,
   "id": "33df2a95",
   "metadata": {},
   "outputs": [
    {
     "data": {
      "image/png": "[encoded data removed]",
      "text/plain": [
       "<Figure size 640x480 with 1 Axes>"
      ]
     },
     "metadata": {},
     "output_type": "display_data"
    }
   ],
   "source": [
    "visualise_zipf(terms)"
   ]
  },
  {
   "cell_type": "code",
   "execution_count": 115,
   "id": "0576aa72",
   "metadata": {},
   "outputs": [
    {
     "name": "stdout",
     "output_type": "stream",
     "text": [
      "9924\n"
     ]
    }
   ],
   "source": [
    "# Task 3.4 - trying another tf idf vectoriser, to compare\n",
    "# tf idf vectoriser\n",
    "filter_vec = TfidfVectorizer(tokenizer=cab_tokenizer, ngram_range=(1,2),\n",
    "                            min_df=2, max_df=0.8)\n",
    "X_filter = filter_vec.fit_transform(movie_data.Description)\n",
    "\n",
    "# number of input features\n",
    "print(len(filter_vec.get_feature_names_out()))"
   ]
  },
  {
   "cell_type": "code",
   "execution_count": 116,
   "id": "f48f4f4f",
   "metadata": {},
   "outputs": [
    {
     "name": "stdout",
     "output_type": "stream",
     "text": [
      "Top terms for cluster 0: war, c, c official, official, site, \n",
      "Top terms for cluster 1: boy, girl, year, world, film, \n",
      "Top terms for cluster 2: jack, town, woman, friend, find, \n",
      "Top terms for cluster 3: rachel, murder, peter, star, love, \n",
      "Top terms for cluster 4: batman, pokemon, celebi, keaton, release, \n",
      "Top terms for cluster 5: family, film, friend, take, school, \n",
      "Top terms for cluster 6: disney, new, prince, adventure, city, \n",
      "Top terms for cluster 7: christmas, santa, holiday, claus, toy, \n",
      "Top terms for cluster 8: film, documentary, interview, voice, footage, \n",
      "Top terms for cluster 9: life, time, one, love, world, \n"
     ]
    }
   ],
   "source": [
    "# K means clustering using the new term vector, time it for comparison to SVD\n",
    "kmeans_fil = KMeans(n_clusters=10, random_state=rs).fit(X_filter)\n",
    "\n",
    "# visualisation\n",
    "visualise_text_cluster(kmeans_fil.n_clusters, kmeans_fil.cluster_centers_, \n",
    "                       filter_vec.get_feature_names_out())"
   ]
  },
  {
   "cell_type": "code",
   "execution_count": null,
   "id": "12c90111",
   "metadata": {},
   "outputs": [],
   "source": [
    "# visual"
   ]
  },
  {
   "cell_type": "code",
   "execution_count": 117,
   "id": "4ae9a0be",
   "metadata": {},
   "outputs": [],
   "source": [
    "# Trying with SVD\n",
    "svd = TruncatedSVD(n_components=100, random_state=42)\n",
    "X_trans = svd.fit_transform(X_filter)"
   ]
  },
  {
   "cell_type": "code",
   "execution_count": 118,
   "id": "d73ffb9a",
   "metadata": {},
   "outputs": [
    {
     "name": "stdout",
     "output_type": "stream",
     "text": [
      "Top terms in component #0 film, life, one, love, year, \n",
      "Top terms in component #1 film, documentary, c, c official, official, \n",
      "Top terms in component #2 earth, alien, adventure, planet, save, \n",
      "Top terms in component #3 life, site, c official, alien, official site, \n",
      "Top terms in component #4 christmas, holiday, santa, family, claus, \n",
      "Top terms in component #5 boy, school, story, year, family, \n",
      "Top terms in component #6 year, school, harry, year old, old, \n",
      "Top terms in component #7 love, story, war, christmas, fall, \n",
      "Top terms in component #8 city, harry, christmas, potter, harry potter, \n",
      "Top terms in component #9 harry, best, academy, academy award, award, \n"
     ]
    }
   ],
   "source": [
    "# sort the components by largest weighted word\n",
    "sorted_comp = svd.components_.argsort()[:, ::-1]\n",
    "terms = filter_vec.get_feature_names_out()\n",
    "\n",
    "# visualise word - concept/component relationships\n",
    "for comp_num in range(10):\n",
    "    print(\"Top terms in component #{}\".format(comp_num), end=\" \")\n",
    "    for i in sorted_comp[comp_num, :5]:\n",
    "        print(terms[i], end=\", \")\n",
    "    print()"
   ]
  },
  {
   "cell_type": "code",
   "execution_count": 119,
   "id": "c07e6e5f",
   "metadata": {},
   "outputs": [
    {
     "name": "stderr",
     "output_type": "stream",
     "text": [
      "/Users/miriamsarpong/anaconda3/lib/python3.11/site-packages/sklearn/cluster/_kmeans.py:870: FutureWarning: The default value of `n_init` will change from 10 to 'auto' in 1.4. Set the value of `n_init` explicitly to suppress the warning\n",
      "  warnings.warn(\n"
     ]
    },
    {
     "name": "stdout",
     "output_type": "stream",
     "text": [
      "Top terms for cluster 0: film, documentary, year, life, interview, \n",
      "Top terms for cluster 1: alien, earth, planet, space, film, \n",
      "Top terms for cluster 2: award, academy, academy award, r, best, \n",
      "Top terms for cluster 3: c official, official site, site, official, c, \n",
      "Top terms for cluster 4: family, christmas, boy, child, year, \n",
      "Top terms for cluster 5: harry, potter, harry potter, wizard, black, \n",
      "Top terms for cluster 6: school, high, get, city, discover, \n",
      "Top terms for cluster 7: story, voice, war, world, set, \n",
      "Top terms for cluster 8: life, love, woman, find, one, \n",
      "Top terms for cluster 9: ernest, kid, treehouse neighborhood, fill goofy, entry ernest, \n"
     ]
    }
   ],
   "source": [
    "# K-means clustering using LSA-transformed X\n",
    "svd_kmeans = KMeans(n_clusters=10, random_state=rs).fit(X_trans)\n",
    "\n",
    "# transform cluster centers back to original feature space for visualisation\n",
    "original_space_centroids = svd.inverse_transform(svd_kmeans.cluster_centers_)\n",
    "\n",
    "# visualisation\n",
    "visualise_text_cluster(svd_kmeans.n_clusters, original_space_centroids, filter_vec.get_feature_names_out())"
   ]
  },
  {
   "cell_type": "code",
   "execution_count": 128,
   "id": "30255235",
   "metadata": {},
   "outputs": [
    {
     "data": {
      "image/png": "[encoded data removed]",
      "text/plain": [
       "<Figure size 640x480 with 1 Axes>"
      ]
     },
     "metadata": {},
     "output_type": "display_data"
    }
   ],
   "source": [
    "# Task 3.5\n",
    "#list to save the clusters and cost\n",
    "clusters = []\n",
    "inertia_vals = []\n",
    "\n",
    "# this whole process should take a while\n",
    "for k in range(2, 15, 2):\n",
    "    # train clustering with the specified K\n",
    "    model = KMeans(n_clusters=k, random_state=rs)\n",
    "    model.fit(X)\n",
    "    \n",
    "    # append model to cluster list\n",
    "    clusters.append(model)\n",
    "    inertia_vals.append(model.inertia_)\n",
    "    \n",
    "# plot the inertia vs K values\n",
    "plt.plot(range(2,15,2), inertia_vals, marker='*')\n",
    "plt.xlabel('Number of Clusters (k)')\n",
    "plt.ylabel('Inertia')\n",
    "plt.title('Elbow Method for Optimal k')\n",
    "plt.show()"
   ]
  },
  {
   "cell_type": "markdown",
   "id": "8aab7acd",
   "metadata": {},
   "source": [
    "## 3.1\n",
    "### Variables included in analysis\n",
    "\n",
    "What were the variables roles and measurement levels set to? Justify choices.\n",
    "\n",
    "We drop all columns except Description, which we primarily focused on.  It contains textual descriptions of the movies, and its measurement level is \"Text\" or \"Nominal\" because it consists of unstructured text data. The role of the \"Description\" column is to provide textual content for clustering movies based on similar topics. \n",
    "\n",
    "1. Drop all columns except Description\n",
    "\n",
    "\n",
    "\n",
    "\n",
    "## 3.2\n",
    "### 10 least useful terms for Clustering\n",
    "\n",
    "Based on the ZIPF plot, list the top 10 terms that will be least useful for clustering purpose.\n",
    "\n",
    " - film\n",
    "\n",
    "\n",
    "## 3.3\n",
    "### Any frequent terms disregarded?\n",
    "Justify choices.\n",
    "\n",
    "We included stop words and   to filter out common and frequent terms that are less informative and can be disregarded to improve the qaulity of clustering results. \n",
    "\n",
    "drop_terms = set(('c', 'r', 'u', 'film'))\n",
    "\n",
    "\n",
    "\n",
    "## 3.4\n",
    "### Justify the term weighting option selected.\n",
    "### What is the number of input features available to execute k-means clustering?\n",
    "\n",
    "Please note that how the original text data is converted into a feature set to support text analysis.\n",
    "\n",
    "TF-IDF (Term Frequency-Inverse Document Frequency) was selected as the term weigting option. It is suitable for text analysis as it assigns higher weights to terms that are important within a specific document, but not too common across all documents. The number of input features for k-means clustering is 65478, which corresponds to the number of unique terms in the \"Description\" column. \n",
    "\n",
    "## 3.5\n",
    "### Find and plot optimal `k`\n",
    "### Interpret results.\n",
    "\n",
    "# plot\n",
    "interpreatiton\n",
    "\n",
    "- elbow method to find the optimal value of k\n",
    "\n",
    "\n",
    "\n",
    "## 3.6\n",
    "### How many clusters are generated?\n",
    "* Provide a way to meaningfully name each cluster.\n",
    "* Display the results.\n",
    "\n",
    "\n",
    "\n",
    "## 3.7\n",
    "### How the outcome of this analysis can be used by decision makers?\n",
    "\n",
    "Give an application or an example where the analysis results can be used by the cinema.\n",
    "\n",
    "- Movie recommendations: \n",
    "\n",
    "- Content Curation:\n",
    "\n"
   ]
  },
  {
   "cell_type": "code",
   "execution_count": null,
   "id": "b4d53678",
   "metadata": {},
   "outputs": [],
   "source": []
  }
 ],
 "metadata": {
  "kernelspec": {
   "display_name": "Python 3 (ipykernel)",
   "language": "python",
   "name": "python3"
  },
  "language_info": {
   "codemirror_mode": {
    "name": "ipython",
    "version": 3
   },
   "file_extension": ".py",
   "mimetype": "text/x-python",
   "name": "python",
   "nbconvert_exporter": "python",
   "pygments_lexer": "ipython3",
   "version": "3.11.3"
  }
 },
 "nbformat": 4,
 "nbformat_minor": 5
}
